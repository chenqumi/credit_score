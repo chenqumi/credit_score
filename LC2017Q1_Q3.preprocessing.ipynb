{
 "cells": [
  {
   "cell_type": "code",
   "execution_count": 1,
   "metadata": {},
   "outputs": [],
   "source": [
    "import numpy as np\n",
    "import pandas as pd\n",
    "import matplotlib.pyplot as plt\n",
    "import seaborn as sns\n",
    "\n",
    "pd.set_option(\"display.float_format\", lambda x: f\"{x:.5f}\")\n",
    "plt.style.use(\"ggplot\")\n",
    "plt.rcParams[\"font.sans-serif\"] = [\"SimHei\"]\n",
    "plt.rcParams[\"axes.unicode_minus\"] = False\n",
    "sns.set_style(\"whitegrid\")"
   ]
  },
  {
   "cell_type": "markdown",
   "metadata": {},
   "source": [
    "# 读入数据  \n",
    "合并表格"
   ]
  },
  {
   "cell_type": "code",
   "execution_count": 2,
   "metadata": {},
   "outputs": [],
   "source": [
    "q1 = \"/Users/chen/Desktop/LendingClub/LoanStats_2017Q1.csv\"\n",
    "q2 = \"/Users/chen/Desktop/LendingClub/LoanStats_2017Q2.csv\"\n",
    "q3 = \"/Users/chen/Desktop/LendingClub/LoanStats_2017Q3.csv\"\n",
    "\n",
    "# 指定id列为object类型\n",
    "df1 = pd.read_csv(q1, encoding=\"latin-1\", skiprows=0, header=1, dtype={\"id\": object, \"sec_app_earliest_cr_line\": object})\n",
    "df2 = pd.read_csv(q2, encoding=\"latin-1\", skiprows=0, header=1, dtype={\"id\": object})\n",
    "df3 = pd.read_csv(q3, encoding=\"latin-1\", skiprows=0, header=1, dtype={\"id\": object})"
   ]
  },
  {
   "cell_type": "code",
   "execution_count": 3,
   "metadata": {},
   "outputs": [
    {
     "data": {
      "text/plain": [
       "(96781, 144)"
      ]
     },
     "execution_count": 3,
     "metadata": {},
     "output_type": "execute_result"
    }
   ],
   "source": [
    "df1.shape"
   ]
  },
  {
   "cell_type": "code",
   "execution_count": 4,
   "metadata": {},
   "outputs": [
    {
     "data": {
      "text/plain": [
       "(105453, 144)"
      ]
     },
     "execution_count": 4,
     "metadata": {},
     "output_type": "execute_result"
    }
   ],
   "source": [
    "df2.shape"
   ]
  },
  {
   "cell_type": "code",
   "execution_count": 5,
   "metadata": {
    "scrolled": true
   },
   "outputs": [
    {
     "data": {
      "text/plain": [
       "(122703, 144)"
      ]
     },
     "execution_count": 5,
     "metadata": {},
     "output_type": "execute_result"
    }
   ],
   "source": [
    "df3.shape"
   ]
  },
  {
   "cell_type": "code",
   "execution_count": 6,
   "metadata": {},
   "outputs": [],
   "source": [
    "data = pd.concat([df1, df2, df3])"
   ]
  },
  {
   "cell_type": "code",
   "execution_count": 7,
   "metadata": {},
   "outputs": [
    {
     "data": {
      "text/plain": [
       "(324937, 144)"
      ]
     },
     "execution_count": 7,
     "metadata": {},
     "output_type": "execute_result"
    }
   ],
   "source": [
    "data.shape"
   ]
  },
  {
   "cell_type": "markdown",
   "metadata": {},
   "source": [
    "# 数据预处理"
   ]
  },
  {
   "cell_type": "markdown",
   "metadata": {},
   "source": [
    "## 去除无关变量  \n",
    "- 贷后变量  \n",
    "- 无关变量"
   ]
  },
  {
   "cell_type": "code",
   "execution_count": 8,
   "metadata": {},
   "outputs": [
    {
     "data": {
      "text/plain": [
       "(324937, 122)"
      ]
     },
     "execution_count": 8,
     "metadata": {},
     "output_type": "execute_result"
    }
   ],
   "source": [
    "post_loan_features = list(data.columns[data.columns.str.contains(\"pymnt|prncp\", regex=True)])\n",
    "post_loan_features.extend([\n",
    "    \"initial_list_status\", \"total_rec_int\", \"total_rec_late_fee\",\n",
    "    \"recoveries\", \"collection_recovery_fee\", \"last_credit_pull_d\"\n",
    "])\n",
    "\n",
    "nonsense_features = [\"grade\", \"sub_grade\", \"zip_code\", \"addr_state\", \"title\", \"policy_code\", \"earliest_cr_line\"]\n",
    "irrelevant_features = post_loan_features + nonsense_features\n",
    "irrelevant_features\n",
    "\n",
    "data.drop(columns=irrelevant_features, inplace=True)\n",
    "data.shape"
   ]
  },
  {
   "cell_type": "markdown",
   "metadata": {},
   "source": [
    "## 缺失值处理  \n",
    "### 去除目标变量缺失的样本"
   ]
  },
  {
   "cell_type": "code",
   "execution_count": 9,
   "metadata": {},
   "outputs": [
    {
     "data": {
      "text/plain": [
       "(324931, 122)"
      ]
     },
     "execution_count": 9,
     "metadata": {},
     "output_type": "execute_result"
    }
   ],
   "source": [
    "data.dropna(subset=[\"loan_status\"], inplace=True)\n",
    "data.shape"
   ]
  },
  {
   "cell_type": "markdown",
   "metadata": {},
   "source": [
    "### 去除缺失率过大的变量"
   ]
  },
  {
   "cell_type": "code",
   "execution_count": 10,
   "metadata": {},
   "outputs": [
    {
     "data": {
      "image/png": "[encoded data removed]",
      "text/plain": [
       "<matplotlib.figure.Figure at 0x105f58748>"
      ]
     },
     "metadata": {},
     "output_type": "display_data"
    }
   ],
   "source": [
    "missing_rate = data.isnull().sum() / len(data)\n",
    "plt.figure(figsize=(10, 8))\n",
    "missing_rate.plot(kind=\"bar\")\n",
    "plt.xticks(fontsize=2)\n",
    "plt.show()"
   ]
  },
  {
   "cell_type": "markdown",
   "metadata": {},
   "source": [
    "以0.9缺失率为阈值"
   ]
  },
  {
   "cell_type": "code",
   "execution_count": 11,
   "metadata": {},
   "outputs": [
    {
     "data": {
      "image/png": "[encoded data removed]",
      "text/plain": [
       "<matplotlib.figure.Figure at 0x106000080>"
      ]
     },
     "metadata": {},
     "output_type": "display_data"
    }
   ],
   "source": [
    "no_na_num = len(data) * 0.1\n",
    "data.dropna(thresh=no_na_num, axis=1, inplace=True)\n",
    "\n",
    "missing_rate = data.isnull().sum() / len(data)\n",
    "plt.figure(figsize=(10, 8))\n",
    "missing_rate.plot(kind=\"bar\")\n",
    "plt.xticks(fontsize=2)\n",
    "plt.show()"
   ]
  },
  {
   "cell_type": "code",
   "execution_count": 12,
   "metadata": {},
   "outputs": [
    {
     "data": {
      "text/plain": [
       "mths_since_last_record           0.82068\n",
       "mths_since_recent_bc_dlq         0.75889\n",
       "mths_since_last_major_derog      0.72457\n",
       "mths_since_recent_revol_delinq   0.64980\n",
       "mths_since_last_delinq           0.48588\n",
       "il_util                          0.13291\n",
       "mths_since_recent_inq            0.11434\n",
       "emp_title                        0.06917\n",
       "emp_length                       0.06817\n",
       "num_tl_120dpd_2m                 0.04745\n",
       "dtype: float64"
      ]
     },
     "execution_count": 12,
     "metadata": {},
     "output_type": "execute_result"
    }
   ],
   "source": [
    "(data.isnull().sum() / len(data)).sort_values(ascending=False)[:10]"
   ]
  },
  {
   "cell_type": "markdown",
   "metadata": {},
   "source": [
    "剩余数据中只有7个变量缺失率大于0.1"
   ]
  },
  {
   "cell_type": "markdown",
   "metadata": {},
   "source": [
    "### 分类变量缺失  \n",
    "先查看分类变量的情况，确保变量真的是分类变量，而不是数值型变量"
   ]
  },
  {
   "cell_type": "code",
   "execution_count": 13,
   "metadata": {},
   "outputs": [
    {
     "data": {
      "text/html": [
       "<div>\n",
       "<style scoped>\n",
       "    .dataframe tbody tr th:only-of-type {\n",
       "        vertical-align: middle;\n",
       "    }\n",
       "\n",
       "    .dataframe tbody tr th {\n",
       "        vertical-align: top;\n",
       "    }\n",
       "\n",
       "    .dataframe thead th {\n",
       "        text-align: right;\n",
       "    }\n",
       "</style>\n",
       "<table border=\"1\" class=\"dataframe\">\n",
       "  <thead>\n",
       "    <tr style=\"text-align: right;\">\n",
       "      <th></th>\n",
       "      <th>count</th>\n",
       "      <th>unique</th>\n",
       "      <th>top</th>\n",
       "      <th>freq</th>\n",
       "    </tr>\n",
       "  </thead>\n",
       "  <tbody>\n",
       "    <tr>\n",
       "      <th>term</th>\n",
       "      <td>324931</td>\n",
       "      <td>2</td>\n",
       "      <td>36 months</td>\n",
       "      <td>237742</td>\n",
       "    </tr>\n",
       "    <tr>\n",
       "      <th>int_rate</th>\n",
       "      <td>324931</td>\n",
       "      <td>65</td>\n",
       "      <td>16.02%</td>\n",
       "      <td>14697</td>\n",
       "    </tr>\n",
       "    <tr>\n",
       "      <th>emp_title</th>\n",
       "      <td>302456</td>\n",
       "      <td>95032</td>\n",
       "      <td>Teacher</td>\n",
       "      <td>6287</td>\n",
       "    </tr>\n",
       "    <tr>\n",
       "      <th>emp_length</th>\n",
       "      <td>302782</td>\n",
       "      <td>11</td>\n",
       "      <td>10+ years</td>\n",
       "      <td>107972</td>\n",
       "    </tr>\n",
       "    <tr>\n",
       "      <th>home_ownership</th>\n",
       "      <td>324931</td>\n",
       "      <td>5</td>\n",
       "      <td>MORTGAGE</td>\n",
       "      <td>160063</td>\n",
       "    </tr>\n",
       "    <tr>\n",
       "      <th>verification_status</th>\n",
       "      <td>324931</td>\n",
       "      <td>3</td>\n",
       "      <td>Source Verified</td>\n",
       "      <td>128887</td>\n",
       "    </tr>\n",
       "    <tr>\n",
       "      <th>issue_d</th>\n",
       "      <td>324931</td>\n",
       "      <td>9</td>\n",
       "      <td>Aug-2017</td>\n",
       "      <td>43573</td>\n",
       "    </tr>\n",
       "    <tr>\n",
       "      <th>loan_status</th>\n",
       "      <td>324931</td>\n",
       "      <td>7</td>\n",
       "      <td>Current</td>\n",
       "      <td>168542</td>\n",
       "    </tr>\n",
       "    <tr>\n",
       "      <th>purpose</th>\n",
       "      <td>324931</td>\n",
       "      <td>13</td>\n",
       "      <td>debt_consolidation</td>\n",
       "      <td>182631</td>\n",
       "    </tr>\n",
       "    <tr>\n",
       "      <th>revol_util</th>\n",
       "      <td>324678</td>\n",
       "      <td>1140</td>\n",
       "      <td>0%</td>\n",
       "      <td>1552</td>\n",
       "    </tr>\n",
       "    <tr>\n",
       "      <th>application_type</th>\n",
       "      <td>324931</td>\n",
       "      <td>2</td>\n",
       "      <td>Individual</td>\n",
       "      <td>299717</td>\n",
       "    </tr>\n",
       "    <tr>\n",
       "      <th>hardship_flag</th>\n",
       "      <td>324931</td>\n",
       "      <td>2</td>\n",
       "      <td>N</td>\n",
       "      <td>324739</td>\n",
       "    </tr>\n",
       "    <tr>\n",
       "      <th>debt_settlement_flag</th>\n",
       "      <td>324931</td>\n",
       "      <td>2</td>\n",
       "      <td>N</td>\n",
       "      <td>320009</td>\n",
       "    </tr>\n",
       "  </tbody>\n",
       "</table>\n",
       "</div>"
      ],
      "text/plain": [
       "                       count unique                 top    freq\n",
       "term                  324931      2           36 months  237742\n",
       "int_rate              324931     65              16.02%   14697\n",
       "emp_title             302456  95032             Teacher    6287\n",
       "emp_length            302782     11           10+ years  107972\n",
       "home_ownership        324931      5            MORTGAGE  160063\n",
       "verification_status   324931      3     Source Verified  128887\n",
       "issue_d               324931      9            Aug-2017   43573\n",
       "loan_status           324931      7             Current  168542\n",
       "purpose               324931     13  debt_consolidation  182631\n",
       "revol_util            324678   1140                  0%    1552\n",
       "application_type      324931      2          Individual  299717\n",
       "hardship_flag         324931      2                   N  324739\n",
       "debt_settlement_flag  324931      2                   N  320009"
      ]
     },
     "execution_count": 13,
     "metadata": {},
     "output_type": "execute_result"
    }
   ],
   "source": [
    "data.select_dtypes(\"object\").describe().T"
   ]
  },
  {
   "cell_type": "markdown",
   "metadata": {},
   "source": [
    "注意到：  \n",
    "- 有些变量应该是数值型，在df中却是object类型，  \n",
    "  如term、int_rate、emp_length、revol_util主要原因是他们带有单位，需要做格式转换；  \n",
    "  ??? term需要转换为数值型吗，虽然它的取值是数字，但只有36和60，是否应该保持其为类别变量；  \n",
    "- emp_title描述的是借款人职业，类型太多，类似于邮编和地址，可以删除；  \n",
    "- hardship_flag和debt_settlement_flag中某一类型占比非常大，是否可以删除？"
   ]
  },
  {
   "cell_type": "code",
   "execution_count": 14,
   "metadata": {},
   "outputs": [],
   "source": [
    "data[\"int_rate\"] = data[\"int_rate\"].str.strip(\"%\").astype(\"float64\")\n",
    "data[\"revol_util\"] = data[\"revol_util\"].str.strip(\"%\").astype(\"float64\")\n",
    "\n",
    "encoding_emp_length = {\n",
    "    \"10+ years\": 10,\n",
    "    \"9 years\": 9,\n",
    "    \"8 years\": 8,\n",
    "    \"7 years\": 7,\n",
    "    \"6 years\": 6,\n",
    "    \"5 years\": 5,\n",
    "    \"4 years\": 4,\n",
    "    \"3 years\": 3,\n",
    "    \"2 years\": 2,\n",
    "    \"1 year\": 1,\n",
    "    \"< 1 year\": 0,\n",
    "}\n",
    "\n",
    "data.replace(to_replace={\"emp_length\": encoding_emp_length}, inplace=True)\n",
    "data.drop(columns=[\"emp_title\"], inplace=True)"
   ]
  },
  {
   "cell_type": "code",
   "execution_count": 15,
   "metadata": {},
   "outputs": [
    {
     "data": {
      "text/html": [
       "<div>\n",
       "<style scoped>\n",
       "    .dataframe tbody tr th:only-of-type {\n",
       "        vertical-align: middle;\n",
       "    }\n",
       "\n",
       "    .dataframe tbody tr th {\n",
       "        vertical-align: top;\n",
       "    }\n",
       "\n",
       "    .dataframe thead th {\n",
       "        text-align: right;\n",
       "    }\n",
       "</style>\n",
       "<table border=\"1\" class=\"dataframe\">\n",
       "  <thead>\n",
       "    <tr style=\"text-align: right;\">\n",
       "      <th></th>\n",
       "      <th>count</th>\n",
       "      <th>unique</th>\n",
       "      <th>top</th>\n",
       "      <th>freq</th>\n",
       "    </tr>\n",
       "  </thead>\n",
       "  <tbody>\n",
       "    <tr>\n",
       "      <th>term</th>\n",
       "      <td>324931</td>\n",
       "      <td>2</td>\n",
       "      <td>36 months</td>\n",
       "      <td>237742</td>\n",
       "    </tr>\n",
       "    <tr>\n",
       "      <th>home_ownership</th>\n",
       "      <td>324931</td>\n",
       "      <td>5</td>\n",
       "      <td>MORTGAGE</td>\n",
       "      <td>160063</td>\n",
       "    </tr>\n",
       "    <tr>\n",
       "      <th>verification_status</th>\n",
       "      <td>324931</td>\n",
       "      <td>3</td>\n",
       "      <td>Source Verified</td>\n",
       "      <td>128887</td>\n",
       "    </tr>\n",
       "    <tr>\n",
       "      <th>issue_d</th>\n",
       "      <td>324931</td>\n",
       "      <td>9</td>\n",
       "      <td>Aug-2017</td>\n",
       "      <td>43573</td>\n",
       "    </tr>\n",
       "    <tr>\n",
       "      <th>loan_status</th>\n",
       "      <td>324931</td>\n",
       "      <td>7</td>\n",
       "      <td>Current</td>\n",
       "      <td>168542</td>\n",
       "    </tr>\n",
       "    <tr>\n",
       "      <th>purpose</th>\n",
       "      <td>324931</td>\n",
       "      <td>13</td>\n",
       "      <td>debt_consolidation</td>\n",
       "      <td>182631</td>\n",
       "    </tr>\n",
       "    <tr>\n",
       "      <th>application_type</th>\n",
       "      <td>324931</td>\n",
       "      <td>2</td>\n",
       "      <td>Individual</td>\n",
       "      <td>299717</td>\n",
       "    </tr>\n",
       "    <tr>\n",
       "      <th>hardship_flag</th>\n",
       "      <td>324931</td>\n",
       "      <td>2</td>\n",
       "      <td>N</td>\n",
       "      <td>324739</td>\n",
       "    </tr>\n",
       "    <tr>\n",
       "      <th>debt_settlement_flag</th>\n",
       "      <td>324931</td>\n",
       "      <td>2</td>\n",
       "      <td>N</td>\n",
       "      <td>320009</td>\n",
       "    </tr>\n",
       "  </tbody>\n",
       "</table>\n",
       "</div>"
      ],
      "text/plain": [
       "                       count unique                 top    freq\n",
       "term                  324931      2           36 months  237742\n",
       "home_ownership        324931      5            MORTGAGE  160063\n",
       "verification_status   324931      3     Source Verified  128887\n",
       "issue_d               324931      9            Aug-2017   43573\n",
       "loan_status           324931      7             Current  168542\n",
       "purpose               324931     13  debt_consolidation  182631\n",
       "application_type      324931      2          Individual  299717\n",
       "hardship_flag         324931      2                   N  324739\n",
       "debt_settlement_flag  324931      2                   N  320009"
      ]
     },
     "execution_count": 15,
     "metadata": {},
     "output_type": "execute_result"
    }
   ],
   "source": [
    "data.select_dtypes(\"object\").describe().T"
   ]
  },
  {
   "cell_type": "code",
   "execution_count": 16,
   "metadata": {},
   "outputs": [
    {
     "name": "stdout",
     "output_type": "stream",
     "text": [
      "<class 'pandas.core.frame.DataFrame'>\n",
      "Int64Index: 324931 entries, 0 to 122700\n",
      "Data columns (total 9 columns):\n",
      "term                    324931 non-null object\n",
      "home_ownership          324931 non-null object\n",
      "verification_status     324931 non-null object\n",
      "issue_d                 324931 non-null object\n",
      "loan_status             324931 non-null object\n",
      "purpose                 324931 non-null object\n",
      "application_type        324931 non-null object\n",
      "hardship_flag           324931 non-null object\n",
      "debt_settlement_flag    324931 non-null object\n",
      "dtypes: object(9)\n",
      "memory usage: 24.8+ MB\n"
     ]
    }
   ],
   "source": [
    "data.select_dtypes(\"object\").info()"
   ]
  },
  {
   "cell_type": "markdown",
   "metadata": {},
   "source": [
    "分类变量已经没有缺失了"
   ]
  },
  {
   "cell_type": "markdown",
   "metadata": {},
   "source": [
    "### 数值型变量缺失  \n",
    "在这里简单地用均值填充  \n",
    "对缺失率>0.1的用均值填充，<0.1的之间删掉"
   ]
  },
  {
   "cell_type": "code",
   "execution_count": 17,
   "metadata": {},
   "outputs": [],
   "source": [
    "# fill_values = {feature: data[feature].mean() for feature in data.select_dtypes(np.number).columns}\n",
    "\n",
    "high_miss_f = data.columns[(data.isnull().sum() / len(data)) > 0.1]\n",
    "fill_values = {feature: data[feature].mean() for feature in high_miss_f}\n",
    "data.fillna(value=fill_values, inplace=True)"
   ]
  },
  {
   "cell_type": "code",
   "execution_count": 18,
   "metadata": {},
   "outputs": [
    {
     "data": {
      "text/plain": [
       "(277912, 83)"
      ]
     },
     "execution_count": 18,
     "metadata": {},
     "output_type": "execute_result"
    }
   ],
   "source": [
    "data.dropna(inplace=True)\n",
    "data.shape"
   ]
  },
  {
   "cell_type": "code",
   "execution_count": 19,
   "metadata": {
    "scrolled": false
   },
   "outputs": [],
   "source": [
    "# data.isna().info()"
   ]
  },
  {
   "cell_type": "markdown",
   "metadata": {},
   "source": [
    "数值型变量也没有缺失了"
   ]
  },
  {
   "cell_type": "markdown",
   "metadata": {},
   "source": [
    "# 定义好坏样本以及目标变量编码  \n",
    "在暖通的文章中他还定义了一个“中间状态”，包括逾期16-30天、宽恕期内和Default  \n",
    "在后期使用逻辑回归建模时，只使用好坏两种类型的数据\n",
    "**创建一个copy数据**"
   ]
  },
  {
   "cell_type": "code",
   "execution_count": 20,
   "metadata": {},
   "outputs": [],
   "source": [
    "df = data.copy()\n",
    "\n",
    "encoding_loan_status = {\n",
    "    \"Current\": 0,\n",
    "    \"Fully Paid\": 0,\n",
    "    \"Late (16-30 days)\": 2,\n",
    "    \"Late (31-120 days)\": 1,\n",
    "    \"In Grace Period\": 2,\n",
    "    \"Default\": 2,\n",
    "    \"Charged Off\": 1,\n",
    "}\n",
    "\n",
    "df.replace(to_replace={\"loan_status\": encoding_loan_status}, inplace=True)"
   ]
  },
  {
   "cell_type": "markdown",
   "metadata": {},
   "source": [
    "# 数据集划分  \n",
    "将第一、二季度的数据用于建模，  \n",
    "三季度数据用于验证  \n",
    "统计每个月数据的坏样本率"
   ]
  },
  {
   "cell_type": "code",
   "execution_count": 21,
   "metadata": {},
   "outputs": [],
   "source": [
    "df = df[df[\"loan_status\"]!=2]\n",
    "df[\"issue_d\"] = pd.to_datetime(df[\"issue_d\"]).apply(lambda x: x.to_period(\"M\"))"
   ]
  },
  {
   "cell_type": "code",
   "execution_count": 22,
   "metadata": {},
   "outputs": [
    {
     "data": {
      "text/html": [
       "<div>\n",
       "<style scoped>\n",
       "    .dataframe tbody tr th:only-of-type {\n",
       "        vertical-align: middle;\n",
       "    }\n",
       "\n",
       "    .dataframe tbody tr th {\n",
       "        vertical-align: top;\n",
       "    }\n",
       "\n",
       "    .dataframe thead th {\n",
       "        text-align: right;\n",
       "    }\n",
       "</style>\n",
       "<table border=\"1\" class=\"dataframe\">\n",
       "  <thead>\n",
       "    <tr style=\"text-align: right;\">\n",
       "      <th></th>\n",
       "      <th>issue_d</th>\n",
       "      <th>loan_status</th>\n",
       "    </tr>\n",
       "  </thead>\n",
       "  <tbody>\n",
       "    <tr>\n",
       "      <th>0</th>\n",
       "      <td>2017-01</td>\n",
       "      <td>0.13185</td>\n",
       "    </tr>\n",
       "    <tr>\n",
       "      <th>1</th>\n",
       "      <td>2017-02</td>\n",
       "      <td>0.12763</td>\n",
       "    </tr>\n",
       "    <tr>\n",
       "      <th>2</th>\n",
       "      <td>2017-03</td>\n",
       "      <td>0.12072</td>\n",
       "    </tr>\n",
       "    <tr>\n",
       "      <th>3</th>\n",
       "      <td>2017-04</td>\n",
       "      <td>0.12286</td>\n",
       "    </tr>\n",
       "    <tr>\n",
       "      <th>4</th>\n",
       "      <td>2017-05</td>\n",
       "      <td>0.12102</td>\n",
       "    </tr>\n",
       "    <tr>\n",
       "      <th>5</th>\n",
       "      <td>2017-06</td>\n",
       "      <td>0.11430</td>\n",
       "    </tr>\n",
       "    <tr>\n",
       "      <th>6</th>\n",
       "      <td>2017-07</td>\n",
       "      <td>0.11170</td>\n",
       "    </tr>\n",
       "    <tr>\n",
       "      <th>7</th>\n",
       "      <td>2017-08</td>\n",
       "      <td>0.10291</td>\n",
       "    </tr>\n",
       "    <tr>\n",
       "      <th>8</th>\n",
       "      <td>2017-09</td>\n",
       "      <td>0.11051</td>\n",
       "    </tr>\n",
       "  </tbody>\n",
       "</table>\n",
       "</div>"
      ],
      "text/plain": [
       "  issue_d  loan_status\n",
       "0 2017-01      0.13185\n",
       "1 2017-02      0.12763\n",
       "2 2017-03      0.12072\n",
       "3 2017-04      0.12286\n",
       "4 2017-05      0.12102\n",
       "5 2017-06      0.11430\n",
       "6 2017-07      0.11170\n",
       "7 2017-08      0.10291\n",
       "8 2017-09      0.11051"
      ]
     },
     "execution_count": 22,
     "metadata": {},
     "output_type": "execute_result"
    }
   ],
   "source": [
    "df_by_date = df.groupby(\"issue_d\")\n",
    "(df_by_date[\"loan_status\"].sum() / df_by_date[\"loan_status\"].count()).reset_index()"
   ]
  },
  {
   "cell_type": "markdown",
   "metadata": {},
   "source": [
    "每个月的bad_rate明显比文章中高了不少，可能是因为文章写的比较早了，分析时还未表现出来；  \n",
    "LC对数据更新后bad_rate稳定在当前的值了。"
   ]
  },
  {
   "cell_type": "code",
   "execution_count": 23,
   "metadata": {},
   "outputs": [],
   "source": [
    "df_model = data.copy()\n",
    "df_model.replace(to_replace={\"loan_status\": encoding_loan_status}, inplace=True)\n",
    "df_model = df_model[df_model[\"loan_status\"]!=2]"
   ]
  },
  {
   "cell_type": "code",
   "execution_count": 24,
   "metadata": {
    "scrolled": true
   },
   "outputs": [
    {
     "data": {
      "text/plain": [
       "Aug-2017    36993\n",
       "Jul-2017    33580\n",
       "Sep-2017    33039\n",
       "Jun-2017    32589\n",
       "May-2017    32161\n",
       "Mar-2017    31288\n",
       "Jan-2017    27356\n",
       "Apr-2017    25183\n",
       "Feb-2017    23475\n",
       "Name: issue_d, dtype: int64"
      ]
     },
     "execution_count": 24,
     "metadata": {},
     "output_type": "execute_result"
    }
   ],
   "source": [
    "df_model[\"issue_d\"].value_counts()"
   ]
  },
  {
   "cell_type": "code",
   "execution_count": 25,
   "metadata": {},
   "outputs": [],
   "source": [
    "months = [\"Jan-2017\", \"Feb-2017\", \"Mar-2017\", \"Apr-2017\", \"May-2017\", \"Jun-2017\"]\n",
    "df_train = df_model.loc[df_model[\"issue_d\"].isin(months)]\n",
    "# 取反 ~\n",
    "df_test = df_model.loc[~df_model[\"issue_d\"].isin(months)]"
   ]
  },
  {
   "cell_type": "code",
   "execution_count": 26,
   "metadata": {},
   "outputs": [
    {
     "data": {
      "text/plain": [
       "172052"
      ]
     },
     "execution_count": 26,
     "metadata": {},
     "output_type": "execute_result"
    }
   ],
   "source": [
    "len(df_train)"
   ]
  },
  {
   "cell_type": "code",
   "execution_count": 27,
   "metadata": {},
   "outputs": [
    {
     "data": {
      "text/plain": [
       "103612"
      ]
     },
     "execution_count": 27,
     "metadata": {},
     "output_type": "execute_result"
    }
   ],
   "source": [
    "len(df_test)"
   ]
  },
  {
   "cell_type": "markdown",
   "metadata": {},
   "source": [
    "# 保存清洗后的数据"
   ]
  },
  {
   "cell_type": "code",
   "execution_count": 114,
   "metadata": {},
   "outputs": [],
   "source": [
    "data.to_csv(\"LC2017Q1_Q3_clean.csv\", index=False)"
   ]
  },
  {
   "cell_type": "code",
   "execution_count": null,
   "metadata": {},
   "outputs": [],
   "source": []
  }
 ],
 "metadata": {
  "kernelspec": {
   "display_name": "Python 3",
   "language": "python",
   "name": "python3"
  },
  "language_info": {
   "codemirror_mode": {
    "name": "ipython",
    "version": 3
   },
   "file_extension": ".py",
   "mimetype": "text/x-python",
   "name": "python",
   "nbconvert_exporter": "python",
   "pygments_lexer": "ipython3",
   "version": "3.6.8"
  }
 },
 "nbformat": 4,
 "nbformat_minor": 2
}
